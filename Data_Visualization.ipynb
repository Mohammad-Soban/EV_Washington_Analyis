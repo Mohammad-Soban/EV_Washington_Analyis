{
 "cells": [
  {
   "cell_type": "code",
   "execution_count": null,
   "metadata": {},
   "outputs": [],
   "source": [
    "!pip install folium"
   ]
  },
  {
   "cell_type": "code",
   "execution_count": 2,
   "metadata": {},
   "outputs": [],
   "source": [
    "import folium\n",
    "import pandas as pd\n",
    "import matplotlib.pyplot as plt\n",
    "import numpy as np\n",
    "import seaborn as sns\n",
    "\n",
    "from folium import plugins\n",
    "\n",
    "%matplotlib inline"
   ]
  },
  {
   "cell_type": "code",
   "execution_count": null,
   "metadata": {},
   "outputs": [],
   "source": [
    "longitude = -77.03637\n",
    "latitude = 38.89511\n",
    "washington_map = folium.Map(location=[latitude, longitude], zoom_start=10)\n",
    "washington_map"
   ]
  },
  {
   "cell_type": "code",
   "execution_count": 4,
   "metadata": {},
   "outputs": [
    {
     "name": "stderr",
     "output_type": "stream",
     "text": [
      "C:\\Users\\Mohammad Soban\\AppData\\Local\\Temp\\ipykernel_19744\\1499454959.py:1: DtypeWarning: Columns (17,18) have mixed types. Specify dtype option on import or set low_memory=False.\n",
      "  df = pd.read_csv(\"./Electric_Vehicle_Population_Data.csv\")\n"
     ]
    },
    {
     "data": {
      "text/plain": [
       "(173533, 19)"
      ]
     },
     "execution_count": 4,
     "metadata": {},
     "output_type": "execute_result"
    }
   ],
   "source": [
    "df = pd.read_csv(\"./Electric_Vehicle_Population_Data.csv\")\n",
    "df.shape"
   ]
  },
  {
   "cell_type": "code",
   "execution_count": 5,
   "metadata": {},
   "outputs": [
    {
     "data": {
      "text/plain": [
       "(173523, 19)"
      ]
     },
     "execution_count": 5,
     "metadata": {},
     "output_type": "execute_result"
    }
   ],
   "source": [
    "# To check which rows have the wrong datatype in the latitude and longitude column\n",
    "df = df[pd.to_numeric(df['Latitude'], errors='coerce').notnull()]\n",
    "\n",
    "df.shape"
   ]
  },
  {
   "cell_type": "code",
   "execution_count": 6,
   "metadata": {},
   "outputs": [],
   "source": [
    "# Drop the row which doesnt have an electric range\n",
    "df.dropna(subset=['Electric Range'], inplace=True)"
   ]
  },
  {
   "cell_type": "code",
   "execution_count": null,
   "metadata": {},
   "outputs": [],
   "source": [
    "# from folium import plugins\n",
    "\n",
    "# sf_map = folium.Map(location=[latitude, longitude], zoom_start=12)\n",
    "# incidents = plugins.MarkerCluster().add_to(sf_map)\n",
    "\n",
    "# for lat, long, label in zip(df.Y, df.X, df.Category):\n",
    "#     folium.Marker(\n",
    "#         [lat, long],\n",
    "#         fill =True,\n",
    "#         radius = 5,\n",
    "#         fill_color = 'red',\n",
    "#         fill_opacity = 0.7,\n",
    "#         popup= label\n",
    "#     ).add_to(incidents)\n",
    "\n",
    "# sf_map\n",
    "\n",
    "# I have the lat and long of where the car was sold county wise so I can plot the sales of electric cars in each county\n",
    "\n",
    "# So I need to caluculate the sales of electric cars in each county\n",
    "\n",
    "# I want to create a folium map of the sales of electric cars in each county as mentioned above\n",
    "\n",
    "sf_map = folium.Map(location=[latitude, longitude], zoom_start=8)\n",
    "car_sold = plugins.MarkerCluster().add_to(sf_map)\n",
    "\n",
    "for lat, long, label in zip(df.Latitude, df.Longitude, df.County):\n",
    "    folium.Marker(\n",
    "        [lat, long],\n",
    "        fill =True,\n",
    "        radius = 5,\n",
    "        fill_color = 'red',\n",
    "        fill_opacity = 0.7,\n",
    "        popup= label\n",
    "    ).add_to(car_sold)\n",
    "\n",
    "sf_map\n"
   ]
  },
  {
   "cell_type": "code",
   "execution_count": null,
   "metadata": {},
   "outputs": [],
   "source": []
  }
 ],
 "metadata": {
  "kernelspec": {
   "display_name": "Python 3",
   "language": "python",
   "name": "python3"
  },
  "language_info": {
   "codemirror_mode": {
    "name": "ipython",
    "version": 3
   },
   "file_extension": ".py",
   "mimetype": "text/x-python",
   "name": "python",
   "nbconvert_exporter": "python",
   "pygments_lexer": "ipython3",
   "version": "undefined.undefined.undefined"
  }
 },
 "nbformat": 4,
 "nbformat_minor": 2
}
